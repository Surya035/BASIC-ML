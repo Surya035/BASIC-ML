{
  "nbformat": 4,
  "nbformat_minor": 0,
  "metadata": {
    "colab": {
      "name": "my first notebook.ipynb",
      "provenance": [],
      "authorship_tag": "ABX9TyPHSMPqIH/EtjIxQqCpbYhb",
      "include_colab_link": true
    },
    "kernelspec": {
      "name": "python3",
      "display_name": "Python 3"
    },
    "language_info": {
      "name": "python"
    }
  },
  "cells": [
    {
      "cell_type": "markdown",
      "metadata": {
        "id": "view-in-github",
        "colab_type": "text"
      },
      "source": [
        "<a href=\"https://colab.research.google.com/github/Surya035/BASIC-ML/blob/main/my_first_notebook.ipynb\" target=\"_parent\"><img src=\"https://colab.research.google.com/assets/colab-badge.svg\" alt=\"Open In Colab\"/></a>"
      ]
    },
    {
      "cell_type": "code",
      "metadata": {
        "colab": {
          "base_uri": "https://localhost:8080/"
        },
        "id": "nRoeTrGlVspm",
        "outputId": "da13b7f4-f799-4de5-a4fc-923d42c9f020"
      },
      "source": [
        "1.\n",
        "n=int(input())\n",
        "if(n%2==0):\n",
        "     print(\"n is even number\")\n",
        "else:\n",
        "    print(\"n is odd number\")\n",
        "    4\n"
      ],
      "execution_count": 4,
      "outputs": [
        {
          "output_type": "stream",
          "text": [
            "4\n",
            "n is even number\n"
          ],
          "name": "stdout"
        }
      ]
    },
    {
      "cell_type": "code",
      "metadata": {
        "colab": {
          "base_uri": "https://localhost:8080/"
        },
        "id": "sxwNNZXqXJhm",
        "outputId": "5ca5702d-b501-4894-c783-e9940b4ea827"
      },
      "source": [
        "2.\n",
        "i=input().split()\n",
        "a=sorted(i,reverse=True)\n",
        "for i in a:\n",
        "  print(i,end=\"\")"
      ],
      "execution_count": 7,
      "outputs": [
        {
          "output_type": "stream",
          "text": [
            "560537\n",
            "560537"
          ],
          "name": "stdout"
        }
      ]
    },
    {
      "cell_type": "code",
      "metadata": {
        "colab": {
          "base_uri": "https://localhost:8080/"
        },
        "id": "OYdWZPS1YRJl",
        "outputId": "9188d9de-d26f-4ed0-825a-c064dd119e47"
      },
      "source": [
        "3.\n",
        "a=int(input())\n",
        "b=int(input())\n",
        "for i in range(1,b+1):\n",
        "  print(a*i,end=\"\")\n"
      ],
      "execution_count": 10,
      "outputs": [
        {
          "output_type": "stream",
          "text": [
            "2\n",
            "5\n",
            "246810"
          ],
          "name": "stdout"
        }
      ]
    }
  ]
}